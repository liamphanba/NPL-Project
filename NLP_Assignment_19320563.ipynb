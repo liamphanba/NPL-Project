{
 "cells": [
  {
   "cell_type": "markdown",
   "metadata": {
    "_uuid": "4638a871a58694a77473a590728ebf25047cd6eb"
   },
   "source": [
    "# NLP Assignment: Generating Trump Tweets with N-Gram Models"
   ]
  },
  {
   "cell_type": "markdown",
   "metadata": {
    "_uuid": "e4f13ed7359c87e397229104c1bcf18eb20603ad"
   },
   "source": [
    "In this assignment, you will use n-gram language models (LM) to model tweets (social media statements) from or about the former U.S. president Donald Trump. The goal will then be to generate new tweets, or do autocompletion, in the writing style of Trump's tweets. The tweets have been scraped from the Twitter social media (since then renamed \"X\").\n",
    "\n",
    "Before starting this assignment, the appended `NLP_ngram_cheatsheet.ipynb` notebook provides a tutorial on n-grams and LM basics, using the `nltk` package.\n",
    "\n",
    "Please code the necessary steps in python, and provide answers in Markdown format in this notebook, under the corresponding instructions and questions below.\n",
    "\n",
    "Please rename your final file `NLP_Assignment_STUDENTID.ipynb` for submission on moodle, and make sure you \"run all\" with a fresh kernel, so that outputs show correctly and in order in your submission."
   ]
  },
  {
   "cell_type": "markdown",
   "metadata": {},
   "source": [
    "**STUDENT ID:** 19-320-563"
   ]
  },
  {
   "cell_type": "markdown",
   "metadata": {},
   "source": [
    "### Provided Packages"
   ]
  },
  {
   "cell_type": "code",
   "execution_count": 240,
   "metadata": {},
   "outputs": [
    {
     "data": {
      "text/plain": [
       "True"
      ]
     },
     "execution_count": 240,
     "metadata": {},
     "output_type": "execute_result"
    }
   ],
   "source": [
    "import numpy as np\n",
    "import pandas as pd\n",
    "import nltk\n",
    "nltk.download('popular', quiet=True)"
   ]
  },
  {
   "cell_type": "markdown",
   "metadata": {},
   "source": [
    "### Additional Packages"
   ]
  },
  {
   "cell_type": "code",
   "execution_count": 241,
   "metadata": {},
   "outputs": [],
   "source": [
    "import preprocessor as p #pip install tweet-preprocessor\n",
    "import plotly.graph_objects as go\n",
    "import string as str\n",
    "import unicodedata\n",
    "from nltk.tokenize import word_tokenize\n",
    "import re"
   ]
  },
  {
   "cell_type": "markdown",
   "metadata": {},
   "source": [
    "## Part 1: Import, inspect and preprocess the text data\n",
    "\n",
    "- Import the provided dataset, `Trump_tweets.csv`. We are interested in the variable `Tweet_Text`, which gives the content of each tweet. \n",
    "- Before tokenizing, start by cleaning the tweets' format. You should at least normalize the different types of apostrophes and quotes (e.g. `` ’, ”, ` ``) to the corresponding ` ' ` or ` \" `, remove line breaks `\\n` (careful about not \"merging\" words), and remove multiple spacing. Also make sure urls (e.g. `https://t.co/wPk7QWpK8Z`) are not split into too many meaningless tokens. \n",
    "- (Facultative) Feel free to perform additional cleaning steps that you believe will improve the tokenization or the downstream LMs (in which case, briefly explain why).\n",
    "- Tokenize the `Tweet_Text` corpus into a list of tokenized tweets (documents). The result should be a list of lists containing word-level tokens (e.g. words, punctuation, and other \"special words\").\n",
    "- Show the result for the first five tweets of the corpus.\n",
    "\n",
    "##### Answer"
   ]
  },
  {
   "cell_type": "markdown",
   "metadata": {},
   "source": [
    "### Import CSV"
   ]
  },
  {
   "cell_type": "code",
   "execution_count": 242,
   "metadata": {},
   "outputs": [
    {
     "data": {
      "text/html": [
       "<div>\n",
       "<style scoped>\n",
       "    .dataframe tbody tr th:only-of-type {\n",
       "        vertical-align: middle;\n",
       "    }\n",
       "\n",
       "    .dataframe tbody tr th {\n",
       "        vertical-align: top;\n",
       "    }\n",
       "\n",
       "    .dataframe thead th {\n",
       "        text-align: right;\n",
       "    }\n",
       "</style>\n",
       "<table border=\"1\" class=\"dataframe\">\n",
       "  <thead>\n",
       "    <tr style=\"text-align: right;\">\n",
       "      <th></th>\n",
       "      <th>Date</th>\n",
       "      <th>Time</th>\n",
       "      <th>Tweet_Text</th>\n",
       "      <th>Type</th>\n",
       "      <th>Media_Type</th>\n",
       "      <th>Hashtags</th>\n",
       "      <th>Tweet_Id</th>\n",
       "      <th>Tweet_Url</th>\n",
       "      <th>twt_favourites_IS_THIS_LIKE_QUESTION_MARK</th>\n",
       "      <th>Retweets</th>\n",
       "      <th>Unnamed: 10</th>\n",
       "      <th>Unnamed: 11</th>\n",
       "    </tr>\n",
       "  </thead>\n",
       "  <tbody>\n",
       "    <tr>\n",
       "      <th>0</th>\n",
       "      <td>16-11-11</td>\n",
       "      <td>15:26:37</td>\n",
       "      <td>Today we express our deepest gratitude to all ...</td>\n",
       "      <td>text</td>\n",
       "      <td>photo</td>\n",
       "      <td>ThankAVet</td>\n",
       "      <td>7.970000e+17</td>\n",
       "      <td>https://twitter.com/realDonaldTrump/status/797...</td>\n",
       "      <td>127213</td>\n",
       "      <td>41112</td>\n",
       "      <td>NaN</td>\n",
       "      <td>NaN</td>\n",
       "    </tr>\n",
       "    <tr>\n",
       "      <th>1</th>\n",
       "      <td>16-11-11</td>\n",
       "      <td>13:33:35</td>\n",
       "      <td>Busy day planned in New York. Will soon be mak...</td>\n",
       "      <td>text</td>\n",
       "      <td>NaN</td>\n",
       "      <td>NaN</td>\n",
       "      <td>7.970000e+17</td>\n",
       "      <td>https://twitter.com/realDonaldTrump/status/797...</td>\n",
       "      <td>141527</td>\n",
       "      <td>28654</td>\n",
       "      <td>NaN</td>\n",
       "      <td>NaN</td>\n",
       "    </tr>\n",
       "    <tr>\n",
       "      <th>2</th>\n",
       "      <td>16-11-11</td>\n",
       "      <td>11:14:20</td>\n",
       "      <td>Love the fact that the small groups of protest...</td>\n",
       "      <td>text</td>\n",
       "      <td>NaN</td>\n",
       "      <td>NaN</td>\n",
       "      <td>7.970000e+17</td>\n",
       "      <td>https://twitter.com/realDonaldTrump/status/797...</td>\n",
       "      <td>183729</td>\n",
       "      <td>50039</td>\n",
       "      <td>NaN</td>\n",
       "      <td>NaN</td>\n",
       "    </tr>\n",
       "    <tr>\n",
       "      <th>3</th>\n",
       "      <td>16-11-11</td>\n",
       "      <td>2:19:44</td>\n",
       "      <td>Just had a very open and successful presidenti...</td>\n",
       "      <td>text</td>\n",
       "      <td>NaN</td>\n",
       "      <td>NaN</td>\n",
       "      <td>7.970000e+17</td>\n",
       "      <td>https://twitter.com/realDonaldTrump/status/796...</td>\n",
       "      <td>214001</td>\n",
       "      <td>67010</td>\n",
       "      <td>NaN</td>\n",
       "      <td>NaN</td>\n",
       "    </tr>\n",
       "    <tr>\n",
       "      <th>4</th>\n",
       "      <td>16-11-11</td>\n",
       "      <td>2:10:46</td>\n",
       "      <td>A fantastic day in D.C. Met with President Oba...</td>\n",
       "      <td>text</td>\n",
       "      <td>NaN</td>\n",
       "      <td>NaN</td>\n",
       "      <td>7.970000e+17</td>\n",
       "      <td>https://twitter.com/realDonaldTrump/status/796...</td>\n",
       "      <td>178499</td>\n",
       "      <td>36688</td>\n",
       "      <td>NaN</td>\n",
       "      <td>NaN</td>\n",
       "    </tr>\n",
       "    <tr>\n",
       "      <th>...</th>\n",
       "      <td>...</td>\n",
       "      <td>...</td>\n",
       "      <td>...</td>\n",
       "      <td>...</td>\n",
       "      <td>...</td>\n",
       "      <td>...</td>\n",
       "      <td>...</td>\n",
       "      <td>...</td>\n",
       "      <td>...</td>\n",
       "      <td>...</td>\n",
       "      <td>...</td>\n",
       "      <td>...</td>\n",
       "    </tr>\n",
       "    <tr>\n",
       "      <th>7370</th>\n",
       "      <td>15-07-16</td>\n",
       "      <td>13:10:00</td>\n",
       "      <td>I loved firing goofball atheist Penn @pennjill...</td>\n",
       "      <td>text</td>\n",
       "      <td>NaN</td>\n",
       "      <td>NaN</td>\n",
       "      <td>6.220000e+17</td>\n",
       "      <td>https://twitter.com/realDonaldTrump/status/621...</td>\n",
       "      <td>953</td>\n",
       "      <td>431</td>\n",
       "      <td>NaN</td>\n",
       "      <td>NaN</td>\n",
       "    </tr>\n",
       "    <tr>\n",
       "      <th>7371</th>\n",
       "      <td>15-07-16</td>\n",
       "      <td>10:18:31</td>\n",
       "      <td>I hear @pennjillette show on Broadway is terri...</td>\n",
       "      <td>text</td>\n",
       "      <td>NaN</td>\n",
       "      <td>NaN</td>\n",
       "      <td>6.220000e+17</td>\n",
       "      <td>https://twitter.com/realDonaldTrump/status/621...</td>\n",
       "      <td>1175</td>\n",
       "      <td>1086</td>\n",
       "      <td>NaN</td>\n",
       "      <td>NaN</td>\n",
       "    </tr>\n",
       "    <tr>\n",
       "      <th>7372</th>\n",
       "      <td>15-07-16</td>\n",
       "      <td>10:10:17</td>\n",
       "      <td>Irrelevant clown @KarlRove sweats and shakes n...</td>\n",
       "      <td>text</td>\n",
       "      <td>NaN</td>\n",
       "      <td>NaN</td>\n",
       "      <td>6.220000e+17</td>\n",
       "      <td>https://twitter.com/realDonaldTrump/status/621...</td>\n",
       "      <td>1494</td>\n",
       "      <td>930</td>\n",
       "      <td>NaN</td>\n",
       "      <td>NaN</td>\n",
       "    </tr>\n",
       "    <tr>\n",
       "      <th>7373</th>\n",
       "      <td>15-07-16</td>\n",
       "      <td>9:44:07</td>\n",
       "      <td>\"@HoustonWelder: Donald Trump is one of the se...</td>\n",
       "      <td>text</td>\n",
       "      <td>NaN</td>\n",
       "      <td>NaN</td>\n",
       "      <td>6.220000e+17</td>\n",
       "      <td>https://twitter.com/realDonaldTrump/status/621...</td>\n",
       "      <td>1800</td>\n",
       "      <td>1738</td>\n",
       "      <td>NaN</td>\n",
       "      <td>NaN</td>\n",
       "    </tr>\n",
       "    <tr>\n",
       "      <th>7374</th>\n",
       "      <td>15-07-16</td>\n",
       "      <td>0:21:25</td>\n",
       "      <td>RT @marklevinshow: Trump: Rove is a clown and ...</td>\n",
       "      <td>link</td>\n",
       "      <td>NaN</td>\n",
       "      <td>NaN</td>\n",
       "      <td>6.210000e+17</td>\n",
       "      <td>https://twitter.com/realDonaldTrump/status/621...</td>\n",
       "      <td>962</td>\n",
       "      <td>689</td>\n",
       "      <td>NaN</td>\n",
       "      <td>NaN</td>\n",
       "    </tr>\n",
       "  </tbody>\n",
       "</table>\n",
       "<p>7375 rows × 12 columns</p>\n",
       "</div>"
      ],
      "text/plain": [
       "          Date      Time                                         Tweet_Text  \\\n",
       "0     16-11-11  15:26:37  Today we express our deepest gratitude to all ...   \n",
       "1     16-11-11  13:33:35  Busy day planned in New York. Will soon be mak...   \n",
       "2     16-11-11  11:14:20  Love the fact that the small groups of protest...   \n",
       "3     16-11-11   2:19:44  Just had a very open and successful presidenti...   \n",
       "4     16-11-11   2:10:46  A fantastic day in D.C. Met with President Oba...   \n",
       "...        ...       ...                                                ...   \n",
       "7370  15-07-16  13:10:00  I loved firing goofball atheist Penn @pennjill...   \n",
       "7371  15-07-16  10:18:31  I hear @pennjillette show on Broadway is terri...   \n",
       "7372  15-07-16  10:10:17  Irrelevant clown @KarlRove sweats and shakes n...   \n",
       "7373  15-07-16   9:44:07  \"@HoustonWelder: Donald Trump is one of the se...   \n",
       "7374  15-07-16   0:21:25  RT @marklevinshow: Trump: Rove is a clown and ...   \n",
       "\n",
       "      Type Media_Type   Hashtags      Tweet_Id  \\\n",
       "0     text      photo  ThankAVet  7.970000e+17   \n",
       "1     text        NaN        NaN  7.970000e+17   \n",
       "2     text        NaN        NaN  7.970000e+17   \n",
       "3     text        NaN        NaN  7.970000e+17   \n",
       "4     text        NaN        NaN  7.970000e+17   \n",
       "...    ...        ...        ...           ...   \n",
       "7370  text        NaN        NaN  6.220000e+17   \n",
       "7371  text        NaN        NaN  6.220000e+17   \n",
       "7372  text        NaN        NaN  6.220000e+17   \n",
       "7373  text        NaN        NaN  6.220000e+17   \n",
       "7374  link        NaN        NaN  6.210000e+17   \n",
       "\n",
       "                                              Tweet_Url  \\\n",
       "0     https://twitter.com/realDonaldTrump/status/797...   \n",
       "1     https://twitter.com/realDonaldTrump/status/797...   \n",
       "2     https://twitter.com/realDonaldTrump/status/797...   \n",
       "3     https://twitter.com/realDonaldTrump/status/796...   \n",
       "4     https://twitter.com/realDonaldTrump/status/796...   \n",
       "...                                                 ...   \n",
       "7370  https://twitter.com/realDonaldTrump/status/621...   \n",
       "7371  https://twitter.com/realDonaldTrump/status/621...   \n",
       "7372  https://twitter.com/realDonaldTrump/status/621...   \n",
       "7373  https://twitter.com/realDonaldTrump/status/621...   \n",
       "7374  https://twitter.com/realDonaldTrump/status/621...   \n",
       "\n",
       "      twt_favourites_IS_THIS_LIKE_QUESTION_MARK  Retweets  Unnamed: 10  \\\n",
       "0                                        127213     41112          NaN   \n",
       "1                                        141527     28654          NaN   \n",
       "2                                        183729     50039          NaN   \n",
       "3                                        214001     67010          NaN   \n",
       "4                                        178499     36688          NaN   \n",
       "...                                         ...       ...          ...   \n",
       "7370                                        953       431          NaN   \n",
       "7371                                       1175      1086          NaN   \n",
       "7372                                       1494       930          NaN   \n",
       "7373                                       1800      1738          NaN   \n",
       "7374                                        962       689          NaN   \n",
       "\n",
       "      Unnamed: 11  \n",
       "0             NaN  \n",
       "1             NaN  \n",
       "2             NaN  \n",
       "3             NaN  \n",
       "4             NaN  \n",
       "...           ...  \n",
       "7370          NaN  \n",
       "7371          NaN  \n",
       "7372          NaN  \n",
       "7373          NaN  \n",
       "7374          NaN  \n",
       "\n",
       "[7375 rows x 12 columns]"
      ]
     },
     "execution_count": 242,
     "metadata": {},
     "output_type": "execute_result"
    }
   ],
   "source": [
    "trump_data = pd.read_csv('Trump_tweets.csv')\n",
    "\n",
    "trump_data"
   ]
  },
  {
   "cell_type": "code",
   "execution_count": 243,
   "metadata": {},
   "outputs": [
    {
     "name": "stdout",
     "output_type": "stream",
     "text": [
      "<class 'pandas.core.frame.DataFrame'>\n",
      "RangeIndex: 7375 entries, 0 to 7374\n",
      "Data columns (total 12 columns):\n",
      " #   Column                                     Non-Null Count  Dtype  \n",
      "---  ------                                     --------------  -----  \n",
      " 0   Date                                       7375 non-null   object \n",
      " 1   Time                                       7375 non-null   object \n",
      " 2   Tweet_Text                                 7375 non-null   object \n",
      " 3   Type                                       7375 non-null   object \n",
      " 4   Media_Type                                 1225 non-null   object \n",
      " 5   Hashtags                                   2031 non-null   object \n",
      " 6   Tweet_Id                                   7375 non-null   float64\n",
      " 7   Tweet_Url                                  7375 non-null   object \n",
      " 8   twt_favourites_IS_THIS_LIKE_QUESTION_MARK  7375 non-null   int64  \n",
      " 9   Retweets                                   7375 non-null   int64  \n",
      " 10  Unnamed: 10                                26 non-null     float64\n",
      " 11  Unnamed: 11                                13 non-null     float64\n",
      "dtypes: float64(3), int64(2), object(7)\n",
      "memory usage: 691.5+ KB\n"
     ]
    }
   ],
   "source": [
    "trump_data.info()"
   ]
  },
  {
   "cell_type": "markdown",
   "metadata": {},
   "source": [
    "### Select *Tweet_Tex* Only"
   ]
  },
  {
   "cell_type": "code",
   "execution_count": 244,
   "metadata": {},
   "outputs": [],
   "source": [
    "trump_tweet_text = df = pd.DataFrame({'Tweet_Text': trump_data[\"Tweet_Text\"]})\n"
   ]
  },
  {
   "cell_type": "code",
   "execution_count": 245,
   "metadata": {},
   "outputs": [
    {
     "data": {
      "text/html": [
       "<div>\n",
       "<style scoped>\n",
       "    .dataframe tbody tr th:only-of-type {\n",
       "        vertical-align: middle;\n",
       "    }\n",
       "\n",
       "    .dataframe tbody tr th {\n",
       "        vertical-align: top;\n",
       "    }\n",
       "\n",
       "    .dataframe thead th {\n",
       "        text-align: right;\n",
       "    }\n",
       "</style>\n",
       "<table border=\"1\" class=\"dataframe\">\n",
       "  <thead>\n",
       "    <tr style=\"text-align: right;\">\n",
       "      <th></th>\n",
       "      <th>Tweet_Text</th>\n",
       "    </tr>\n",
       "  </thead>\n",
       "  <tbody>\n",
       "    <tr>\n",
       "      <th>0</th>\n",
       "      <td>Today we express our deepest gratitude to all ...</td>\n",
       "    </tr>\n",
       "    <tr>\n",
       "      <th>1</th>\n",
       "      <td>Busy day planned in New York. Will soon be mak...</td>\n",
       "    </tr>\n",
       "    <tr>\n",
       "      <th>2</th>\n",
       "      <td>Love the fact that the small groups of protest...</td>\n",
       "    </tr>\n",
       "    <tr>\n",
       "      <th>3</th>\n",
       "      <td>Just had a very open and successful presidenti...</td>\n",
       "    </tr>\n",
       "    <tr>\n",
       "      <th>4</th>\n",
       "      <td>A fantastic day in D.C. Met with President Oba...</td>\n",
       "    </tr>\n",
       "    <tr>\n",
       "      <th>...</th>\n",
       "      <td>...</td>\n",
       "    </tr>\n",
       "    <tr>\n",
       "      <th>7370</th>\n",
       "      <td>I loved firing goofball atheist Penn @pennjill...</td>\n",
       "    </tr>\n",
       "    <tr>\n",
       "      <th>7371</th>\n",
       "      <td>I hear @pennjillette show on Broadway is terri...</td>\n",
       "    </tr>\n",
       "    <tr>\n",
       "      <th>7372</th>\n",
       "      <td>Irrelevant clown @KarlRove sweats and shakes n...</td>\n",
       "    </tr>\n",
       "    <tr>\n",
       "      <th>7373</th>\n",
       "      <td>\"@HoustonWelder: Donald Trump is one of the se...</td>\n",
       "    </tr>\n",
       "    <tr>\n",
       "      <th>7374</th>\n",
       "      <td>RT @marklevinshow: Trump: Rove is a clown and ...</td>\n",
       "    </tr>\n",
       "  </tbody>\n",
       "</table>\n",
       "<p>7375 rows × 1 columns</p>\n",
       "</div>"
      ],
      "text/plain": [
       "                                             Tweet_Text\n",
       "0     Today we express our deepest gratitude to all ...\n",
       "1     Busy day planned in New York. Will soon be mak...\n",
       "2     Love the fact that the small groups of protest...\n",
       "3     Just had a very open and successful presidenti...\n",
       "4     A fantastic day in D.C. Met with President Oba...\n",
       "...                                                 ...\n",
       "7370  I loved firing goofball atheist Penn @pennjill...\n",
       "7371  I hear @pennjillette show on Broadway is terri...\n",
       "7372  Irrelevant clown @KarlRove sweats and shakes n...\n",
       "7373  \"@HoustonWelder: Donald Trump is one of the se...\n",
       "7374  RT @marklevinshow: Trump: Rove is a clown and ...\n",
       "\n",
       "[7375 rows x 1 columns]"
      ]
     },
     "execution_count": 245,
     "metadata": {},
     "output_type": "execute_result"
    }
   ],
   "source": [
    "trump_tweet_text"
   ]
  },
  {
   "cell_type": "markdown",
   "metadata": {},
   "source": [
    "### Drop NA and Duplicates "
   ]
  },
  {
   "cell_type": "code",
   "execution_count": 246,
   "metadata": {},
   "outputs": [
    {
     "data": {
      "text/html": [
       "<div>\n",
       "<style scoped>\n",
       "    .dataframe tbody tr th:only-of-type {\n",
       "        vertical-align: middle;\n",
       "    }\n",
       "\n",
       "    .dataframe tbody tr th {\n",
       "        vertical-align: top;\n",
       "    }\n",
       "\n",
       "    .dataframe thead th {\n",
       "        text-align: right;\n",
       "    }\n",
       "</style>\n",
       "<table border=\"1\" class=\"dataframe\">\n",
       "  <thead>\n",
       "    <tr style=\"text-align: right;\">\n",
       "      <th></th>\n",
       "      <th>Tweet_Text</th>\n",
       "    </tr>\n",
       "  </thead>\n",
       "  <tbody>\n",
       "    <tr>\n",
       "      <th>0</th>\n",
       "      <td>Today we express our deepest gratitude to all ...</td>\n",
       "    </tr>\n",
       "    <tr>\n",
       "      <th>1</th>\n",
       "      <td>Busy day planned in New York. Will soon be mak...</td>\n",
       "    </tr>\n",
       "    <tr>\n",
       "      <th>2</th>\n",
       "      <td>Love the fact that the small groups of protest...</td>\n",
       "    </tr>\n",
       "    <tr>\n",
       "      <th>3</th>\n",
       "      <td>Just had a very open and successful presidenti...</td>\n",
       "    </tr>\n",
       "    <tr>\n",
       "      <th>4</th>\n",
       "      <td>A fantastic day in D.C. Met with President Oba...</td>\n",
       "    </tr>\n",
       "    <tr>\n",
       "      <th>...</th>\n",
       "      <td>...</td>\n",
       "    </tr>\n",
       "    <tr>\n",
       "      <th>7370</th>\n",
       "      <td>I loved firing goofball atheist Penn @pennjill...</td>\n",
       "    </tr>\n",
       "    <tr>\n",
       "      <th>7371</th>\n",
       "      <td>I hear @pennjillette show on Broadway is terri...</td>\n",
       "    </tr>\n",
       "    <tr>\n",
       "      <th>7372</th>\n",
       "      <td>Irrelevant clown @KarlRove sweats and shakes n...</td>\n",
       "    </tr>\n",
       "    <tr>\n",
       "      <th>7373</th>\n",
       "      <td>\"@HoustonWelder: Donald Trump is one of the se...</td>\n",
       "    </tr>\n",
       "    <tr>\n",
       "      <th>7374</th>\n",
       "      <td>RT @marklevinshow: Trump: Rove is a clown and ...</td>\n",
       "    </tr>\n",
       "  </tbody>\n",
       "</table>\n",
       "<p>7364 rows × 1 columns</p>\n",
       "</div>"
      ],
      "text/plain": [
       "                                             Tweet_Text\n",
       "0     Today we express our deepest gratitude to all ...\n",
       "1     Busy day planned in New York. Will soon be mak...\n",
       "2     Love the fact that the small groups of protest...\n",
       "3     Just had a very open and successful presidenti...\n",
       "4     A fantastic day in D.C. Met with President Oba...\n",
       "...                                                 ...\n",
       "7370  I loved firing goofball atheist Penn @pennjill...\n",
       "7371  I hear @pennjillette show on Broadway is terri...\n",
       "7372  Irrelevant clown @KarlRove sweats and shakes n...\n",
       "7373  \"@HoustonWelder: Donald Trump is one of the se...\n",
       "7374  RT @marklevinshow: Trump: Rove is a clown and ...\n",
       "\n",
       "[7364 rows x 1 columns]"
      ]
     },
     "execution_count": 246,
     "metadata": {},
     "output_type": "execute_result"
    }
   ],
   "source": [
    "trump_tweet_text = trump_tweet_text.dropna()\n",
    "trump_tweet_text = trump_tweet_text.drop_duplicates()\n",
    "rowb = trump_tweet_text.count()\n",
    "trump_tweet_text"
   ]
  },
  {
   "cell_type": "markdown",
   "metadata": {},
   "source": [
    "### Check Samples Tweets"
   ]
  },
  {
   "cell_type": "markdown",
   "metadata": {},
   "source": [
    "#### RT (Retweet)"
   ]
  },
  {
   "cell_type": "markdown",
   "metadata": {},
   "source": [
    "> Don't contains any Trump own says"
   ]
  },
  {
   "cell_type": "code",
   "execution_count": 247,
   "metadata": {},
   "outputs": [
    {
     "data": {
      "text/plain": [
       "'RT @IvankaTrump: Such a surreal moment to vote for my father for President of the United States! Make your voice heard and vote! #Election2_'"
      ]
     },
     "execution_count": 247,
     "metadata": {},
     "output_type": "execute_result"
    }
   ],
   "source": [
    "sample1 = trump_tweet_text[\"Tweet_Text\"].iloc[8]\n",
    "sample1"
   ]
  },
  {
   "cell_type": "markdown",
   "metadata": {},
   "source": [
    "#### QT (Quotations Tweet)"
   ]
  },
  {
   "cell_type": "markdown",
   "metadata": {},
   "source": [
    "> May contains some original Trump says, mainly comments added after a quote of someone else"
   ]
  },
  {
   "cell_type": "code",
   "execution_count": 248,
   "metadata": {},
   "outputs": [
    {
     "data": {
      "text/plain": [
       "'\"@HoustonWelder: Donald Trump is one of the sexiest men on this planet. Every woman dreams of a good man who tells it like it is.\" So true!'"
      ]
     },
     "execution_count": 248,
     "metadata": {},
     "output_type": "execute_result"
    }
   ],
   "source": [
    "sample2 = trump_tweet_text[\"Tweet_Text\"].iloc[-2]\n",
    "sample2"
   ]
  },
  {
   "cell_type": "markdown",
   "metadata": {},
   "source": [
    "> Here original Trump says is \"So true !\""
   ]
  },
  {
   "cell_type": "markdown",
   "metadata": {},
   "source": [
    "### Tweets Types"
   ]
  },
  {
   "cell_type": "code",
   "execution_count": 249,
   "metadata": {},
   "outputs": [
    {
     "data": {
      "text/plain": [
       "ORIGINAL             4809\n",
       "QUOTATION RETWEET    2125\n",
       "RETWEET               430\n",
       "Name: Type, dtype: int64"
      ]
     },
     "execution_count": 249,
     "metadata": {},
     "output_type": "execute_result"
    }
   ],
   "source": [
    "trump_tweet_text['Type'] = np.where(trump_tweet_text[\"Tweet_Text\"].str.startswith('RT'), 'RETWEET', \n",
    "                       np.where(trump_tweet_text[\"Tweet_Text\"].str.startswith('\"@'), 'QUOTATION RETWEET', 'ORIGINAL'))\n",
    "\n",
    "trump_tweet_text[\"Type\"].value_counts()"
   ]
  },
  {
   "cell_type": "markdown",
   "metadata": {},
   "source": [
    "### Samples Types"
   ]
  },
  {
   "cell_type": "code",
   "execution_count": 250,
   "metadata": {},
   "outputs": [
    {
     "name": "stdout",
     "output_type": "stream",
     "text": [
      "\n",
      " SAMPLE 1: RT @IvankaTrump: Such a surreal moment to vote for my father for President of the United States! Make your voice heard and vote! #Election2_ \n",
      "\n",
      " TYPE: RETWEET \n",
      "\n",
      "---------------------------------------\n",
      "\n",
      " SAMPLE 2: \"@HoustonWelder: Donald Trump is one of the sexiest men on this planet. Every woman dreams of a good man who tells it like it is.\" So true! \n",
      "\n",
      " TYPE: QUOTATION RETWEET\n"
     ]
    }
   ],
   "source": [
    "sample1 = trump_tweet_text.iloc[8]\n",
    "\n",
    "sample2 = trump_tweet_text.iloc[-2]\n",
    "\n",
    "print(\"\\n SAMPLE 1:\", sample1[0], \"\"\"\n",
    "\n",
    "\"\"\",\"TYPE:\",sample1[1], \"\"\"\n",
    "\n",
    "---------------------------------------\n",
    "\n",
    "\"\"\",\"SAMPLE 2:\", sample2[0], \"\"\"\n",
    "\n",
    "\"\"\",\"TYPE:\",sample2[1])"
   ]
  },
  {
   "cell_type": "markdown",
   "metadata": {},
   "source": [
    "### Removing Retweet and keeping Quotation Retweet"
   ]
  },
  {
   "cell_type": "markdown",
   "metadata": {},
   "source": [
    "> I think that keeping Retweets will not be relevant in creating Trump Tweets style, at most it will generate tweets that he likes or think need to be spread, but worse it can attribute the words from other to his own speech without being relevant to how he talks or think. Keeping Quotation Retweets is different than simple Retweets, in the sense that Trumps usually likes to comments or criticise over existing tweets, which may help the model to grasp this kind of behavior. "
   ]
  },
  {
   "cell_type": "code",
   "execution_count": 251,
   "metadata": {},
   "outputs": [
    {
     "data": {
      "text/html": [
       "<div>\n",
       "<style scoped>\n",
       "    .dataframe tbody tr th:only-of-type {\n",
       "        vertical-align: middle;\n",
       "    }\n",
       "\n",
       "    .dataframe tbody tr th {\n",
       "        vertical-align: top;\n",
       "    }\n",
       "\n",
       "    .dataframe thead th {\n",
       "        text-align: right;\n",
       "    }\n",
       "</style>\n",
       "<table border=\"1\" class=\"dataframe\">\n",
       "  <thead>\n",
       "    <tr style=\"text-align: right;\">\n",
       "      <th></th>\n",
       "      <th>Tweet_Text</th>\n",
       "      <th>Type</th>\n",
       "    </tr>\n",
       "  </thead>\n",
       "  <tbody>\n",
       "    <tr>\n",
       "      <th>0</th>\n",
       "      <td>Today we express our deepest gratitude to all ...</td>\n",
       "      <td>ORIGINAL</td>\n",
       "    </tr>\n",
       "    <tr>\n",
       "      <th>1</th>\n",
       "      <td>Busy day planned in New York. Will soon be mak...</td>\n",
       "      <td>ORIGINAL</td>\n",
       "    </tr>\n",
       "    <tr>\n",
       "      <th>2</th>\n",
       "      <td>Love the fact that the small groups of protest...</td>\n",
       "      <td>ORIGINAL</td>\n",
       "    </tr>\n",
       "    <tr>\n",
       "      <th>3</th>\n",
       "      <td>Just had a very open and successful presidenti...</td>\n",
       "      <td>ORIGINAL</td>\n",
       "    </tr>\n",
       "    <tr>\n",
       "      <th>4</th>\n",
       "      <td>A fantastic day in D.C. Met with President Oba...</td>\n",
       "      <td>ORIGINAL</td>\n",
       "    </tr>\n",
       "    <tr>\n",
       "      <th>...</th>\n",
       "      <td>...</td>\n",
       "      <td>...</td>\n",
       "    </tr>\n",
       "    <tr>\n",
       "      <th>7369</th>\n",
       "      <td>I hope the boycott of @Macys continues forever...</td>\n",
       "      <td>ORIGINAL</td>\n",
       "    </tr>\n",
       "    <tr>\n",
       "      <th>7370</th>\n",
       "      <td>I loved firing goofball atheist Penn @pennjill...</td>\n",
       "      <td>ORIGINAL</td>\n",
       "    </tr>\n",
       "    <tr>\n",
       "      <th>7371</th>\n",
       "      <td>I hear @pennjillette show on Broadway is terri...</td>\n",
       "      <td>ORIGINAL</td>\n",
       "    </tr>\n",
       "    <tr>\n",
       "      <th>7372</th>\n",
       "      <td>Irrelevant clown @KarlRove sweats and shakes n...</td>\n",
       "      <td>ORIGINAL</td>\n",
       "    </tr>\n",
       "    <tr>\n",
       "      <th>7373</th>\n",
       "      <td>\"@HoustonWelder: Donald Trump is one of the se...</td>\n",
       "      <td>QUOTATION RETWEET</td>\n",
       "    </tr>\n",
       "  </tbody>\n",
       "</table>\n",
       "<p>6934 rows × 2 columns</p>\n",
       "</div>"
      ],
      "text/plain": [
       "                                             Tweet_Text               Type\n",
       "0     Today we express our deepest gratitude to all ...           ORIGINAL\n",
       "1     Busy day planned in New York. Will soon be mak...           ORIGINAL\n",
       "2     Love the fact that the small groups of protest...           ORIGINAL\n",
       "3     Just had a very open and successful presidenti...           ORIGINAL\n",
       "4     A fantastic day in D.C. Met with President Oba...           ORIGINAL\n",
       "...                                                 ...                ...\n",
       "7369  I hope the boycott of @Macys continues forever...           ORIGINAL\n",
       "7370  I loved firing goofball atheist Penn @pennjill...           ORIGINAL\n",
       "7371  I hear @pennjillette show on Broadway is terri...           ORIGINAL\n",
       "7372  Irrelevant clown @KarlRove sweats and shakes n...           ORIGINAL\n",
       "7373  \"@HoustonWelder: Donald Trump is one of the se...  QUOTATION RETWEET\n",
       "\n",
       "[6934 rows x 2 columns]"
      ]
     },
     "execution_count": 251,
     "metadata": {},
     "output_type": "execute_result"
    }
   ],
   "source": [
    "trump_tweet_text = trump_tweet_text[trump_tweet_text['Type'] != 'RETWEET']\n",
    "trump_tweet_text"
   ]
  },
  {
   "cell_type": "markdown",
   "metadata": {},
   "source": [
    "### Preprocess"
   ]
  },
  {
   "cell_type": "code",
   "execution_count": 308,
   "metadata": {},
   "outputs": [],
   "source": [
    "# Define a function to clean the tweets\n",
    "def clean_tweet(tweet):\n",
    "    \n",
    "    # Normalize apostrophes and quotes\n",
    "    tweet = unicodedata.normalize('NFKD', tweet).encode('ascii', 'ignore').decode('utf-8')\n",
    "    \n",
    "    # Remove line breaks\n",
    "    tweet = tweet.replace('\\n', ' ')\n",
    "    \n",
    "    # Remove multiple spacing\n",
    "    tweet = re.sub(r'\\s+', ' ', tweet)\n",
    "    \n",
    "    # Remove URLs\n",
    "    #tweet = re.sub(r'https?://\\S+', '', tweet)\n",
    "    \n",
    "    # Remove special characters (optional)\n",
    "    #tweet = re.sub(r'[^a-zA-Z0-9\\s]', '', tweet)\n",
    "    \n",
    "    return tweet"
   ]
  },
  {
   "cell_type": "code",
   "execution_count": 309,
   "metadata": {},
   "outputs": [
    {
     "name": "stderr",
     "output_type": "stream",
     "text": [
      "/var/folders/j0/m71dtf9j0rvddgqlps9swgxc0000gn/T/ipykernel_12154/4020429102.py:2: SettingWithCopyWarning:\n",
      "\n",
      "\n",
      "A value is trying to be set on a copy of a slice from a DataFrame.\n",
      "Try using .loc[row_indexer,col_indexer] = value instead\n",
      "\n",
      "See the caveats in the documentation: https://pandas.pydata.org/pandas-docs/stable/user_guide/indexing.html#returning-a-view-versus-a-copy\n",
      "\n"
     ]
    }
   ],
   "source": [
    "# Apply the cleaning function to the Tweet_Text column\n",
    "trump_tweet_text['Tweet_Text_Clean'] = trump_tweet_text['Tweet_Text'].apply(clean_tweet)"
   ]
  },
  {
   "cell_type": "code",
   "execution_count": 310,
   "metadata": {},
   "outputs": [
    {
     "name": "stdout",
     "output_type": "stream",
     "text": [
      "America must decide between failed policies or fresh perspective, a corrupt system or an outsider\n",
      "https://t.co/ll8QIW9SqW \n",
      "\n",
      " America must decide between failed policies or fresh perspective, a corrupt system or an outsider https://t.co/ll8QIW9SqW\n"
     ]
    }
   ],
   "source": [
    "row = 23\n",
    "print(trump_tweet_text.iloc[row][0], \"\\n\\n\",trump_tweet_text.iloc[row][2])"
   ]
  },
  {
   "cell_type": "markdown",
   "metadata": {},
   "source": [
    "### Tokenization"
   ]
  },
  {
   "cell_type": "markdown",
   "metadata": {},
   "source": [
    "> Testing Tokens with Casual from NLTK"
   ]
  },
  {
   "cell_type": "code",
   "execution_count": 319,
   "metadata": {},
   "outputs": [
    {
     "data": {
      "text/plain": [
       "['Thank', 'you', 'Ohio', '!', '#AmericaFirst', 'https://t.co/p68GAJdhwu']"
      ]
     },
     "execution_count": 319,
     "metadata": {},
     "output_type": "execute_result"
    }
   ],
   "source": [
    "text = trump_tweet_text.iloc[800][2]\n",
    " \n",
    "text_tokens = nltk.casual_tokenize(text)\n",
    "text_tokens"
   ]
  },
  {
   "cell_type": "markdown",
   "metadata": {
    "_uuid": "32c5ad89e3e61b143e940d50a0d0ee602dadfe3f"
   },
   "source": [
    "## Part 2: Fitting and Accessing a Trump Tweet LM\n",
    "\n",
    "### Ex. 2.1: LM fitting function\n",
    "Create a function that takes as arguments (at least) the desired order $n$ of the model and a tokenized training corpus, and that returns the \"simple\" Maximum Likelihood Estimator (MLE) language model, fitted on the given training corpus.  \n",
    "Then, use your function to fit a MLE language model of order $n=3$ to the Trump Tweets corpus.\n",
    "\n",
    "##### Answer"
   ]
  },
  {
   "cell_type": "code",
   "execution_count": null,
   "metadata": {},
   "outputs": [],
   "source": []
  },
  {
   "cell_type": "markdown",
   "metadata": {},
   "source": [
    "### Ex. 2.2: Vocabulary\n",
    "- How many distinct tokens are in the model's vocabulary? Is that the same number of distinct tokens that appear in the tokenized corpus?\n",
    "- Lookup the tokens of the sentence `\"I love UNIGE students!\"` in the model's vocabulary. Explain what you observe, and why. \n",
    "\n",
    "##### Answer"
   ]
  },
  {
   "cell_type": "code",
   "execution_count": null,
   "metadata": {},
   "outputs": [],
   "source": []
  },
  {
   "cell_type": "markdown",
   "metadata": {
    "_uuid": "af5a0851a2f8707ea2e172681342ed3ecd872328"
   },
   "source": [
    "### Ex. 2.3: Token probabilities\n",
    "- When it comes to ngram models the training boils down to counting the ngrams from the training corpus. Using your fitted model, how many times do the following appear in the training data: ``'America', 'Trump', 'I will', 'will never forget'``.\n",
    "- Then, compute the following word occurrence probabilities ('scores') in the Trump Tweets corpus, and briefly explain what the returned numbers mean about the training data:\n",
    "    - $\\mathbb{P}($'America'$)$,\n",
    "    - $\\mathbb{P}($'Trump'$)$,\n",
    "    - $\\mathbb{P}($'will'$\\vert $'I'$)$,\n",
    "    - $\\mathbb{P}($'forget'$\\vert $'will never'$)$.\n",
    "- Briefly explain, with a formula, how those probabilities are obtained from the n-gram counts.\n",
    "\n",
    "##### Answer"
   ]
  },
  {
   "cell_type": "code",
   "execution_count": null,
   "metadata": {},
   "outputs": [],
   "source": []
  },
  {
   "cell_type": "markdown",
   "metadata": {
    "_uuid": "18f9e0a8d0aba302532b8a84f342d1bf4d3e202a"
   },
   "source": [
    "## Part 3: Generation using N-gram Language Model\n",
    "\n",
    "### Ex. 3.1: Tweet generator\n",
    "Create a python function to generate new Trump Tweets. It should:\n",
    "- take as input arguments: a fitted `nltk.lm.model`, a maximum number of words (integer), a text seed (initial context tokens), and a random \"RNG\" seed for generation,\n",
    "- output a newly generated Trump Tweet, according to the input arguments, post-processed as a single text string that is formatted like a tweet.\n",
    "\n",
    "*Hints:* `nltk.tokenize.treebank.TreebankWordDetokenizer()` and its `.detokenize()` method can help with post-processing. Pay attention to show things like `@user` mentions, urls, punctuation, etc... in a \"correct\" format.\n",
    "\n",
    "##### Answer"
   ]
  },
  {
   "cell_type": "code",
   "execution_count": null,
   "metadata": {},
   "outputs": [],
   "source": []
  },
  {
   "cell_type": "markdown",
   "metadata": {},
   "source": [
    "### Ex. 3.2: Initial context\n",
    "To generate a full tweet from a LM of order $n$, explain what should be the text seed (i.e. the initial context tokens). Set the default value for the relevant argument of your function in 3.1 accordingly.\n",
    "\n",
    "##### Answer"
   ]
  },
  {
   "cell_type": "markdown",
   "metadata": {},
   "source": []
  },
  {
   "cell_type": "markdown",
   "metadata": {},
   "source": [
    "### Ex. 3.3: Generate tweets\n",
    "Generate a few new tweets using your new function and the LM fitted in Part 2. For reproducibility, use a random RNG seed to show them. \n",
    "\n",
    "*Facultative:* show a few examples that you find interesting, representative or funny.\n",
    "\n",
    "##### Answer"
   ]
  },
  {
   "cell_type": "code",
   "execution_count": null,
   "metadata": {},
   "outputs": [],
   "source": []
  },
  {
   "cell_type": "markdown",
   "metadata": {},
   "source": [
    "## Part 4: Smoothing and model comparison\n",
    "\n",
    "### Ex. 4.1: Smoothed LM alternatives to simple MLE\n",
    "Modify the function that you defined in 2.1 by adding an argument that allows changing the `nltk.lm` language model that is fitted in the function (e.g. to fit a Laplace or a Lidstone model instead of the simple MLE). \n",
    "Also briefly explain what is the difference between Laplace, Lidstone and the simple MLE language models.\n",
    "\n",
    "*Hint:* Your function might need more than a single additional argument, if some LM have hyperparameters.\n",
    "\n",
    "##### Answer"
   ]
  },
  {
   "cell_type": "markdown",
   "metadata": {},
   "source": []
  },
  {
   "cell_type": "markdown",
   "metadata": {},
   "source": [
    "### Ex. 4.2: Qualitative model comparison \n",
    "With $n=1,2,3,4$, fit and generate new tweets from the simple MLE and from the Laplace LM of orders $n$. \n",
    "- Compare the results between the different $n$ values and between the two models. \n",
    "- What are the main differences for generation? Which model(s) do you think might be the best options for generating new realistic tweets?\n",
    "- Do you see hints of those differences in the generated tweets?\n",
    "\n",
    "##### Answer"
   ]
  },
  {
   "cell_type": "code",
   "execution_count": null,
   "metadata": {},
   "outputs": [],
   "source": []
  },
  {
   "cell_type": "markdown",
   "metadata": {},
   "source": [
    "### Ex. 4.3: Quantitative evaluation and comparison\n",
    "- Split the tokenized Trump Tweets corpus into a (reproducible) training set (80%) and a test set (20%). \n",
    "- Compute the train and test 3-gram perplexity scores of a simple MLE LM, a Laplace LM, and a Lidstone LM with $\\gamma=0.1$. Use model order $n=3$ for each.\n",
    "- Compare and discuss the obtained train and test perplexity scores of the three models. Argue which model might represent the Trump Tweets data best.\n",
    "\n",
    "*Hint:* To compute the perplexity correctly, you might need to preprocess the relevant corpus documents to a list of padded $n$-grams.\n",
    "\n",
    "##### Answer"
   ]
  },
  {
   "cell_type": "code",
   "execution_count": null,
   "metadata": {},
   "outputs": [],
   "source": []
  },
  {
   "cell_type": "markdown",
   "metadata": {},
   "source": [
    "### Ex. 4.4: Hyper-parameter tuning\n",
    "- Perform a grid-search to select the best hyperparameter values for $n$ and $\\gamma$, for the Lidstone LM. You want to select the model that generalizes best to new data.\n",
    "- What do you observe in the obtained perplexity scores? Was it expected? Explain it in statistical terms.\n",
    "\n",
    "*Hint:* Maybe try a few values for $n$ and $\\gamma$ by hand to identify the general hyperparameter region of interest before defining a more thorough hyperparameter value grid.\n",
    "\n",
    "##### Answer"
   ]
  },
  {
   "cell_type": "markdown",
   "metadata": {},
   "source": []
  }
 ],
 "metadata": {
  "kernelspec": {
   "display_name": "Python 3 (ipykernel)",
   "language": "python",
   "name": "python3"
  },
  "language_info": {
   "codemirror_mode": {
    "name": "ipython",
    "version": 3
   },
   "file_extension": ".py",
   "mimetype": "text/x-python",
   "name": "python",
   "nbconvert_exporter": "python",
   "pygments_lexer": "ipython3",
   "version": "3.10.0"
  }
 },
 "nbformat": 4,
 "nbformat_minor": 4
}
